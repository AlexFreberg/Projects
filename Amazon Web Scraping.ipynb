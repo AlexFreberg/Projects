{
 "cells": [
  {
   "cell_type": "code",
   "execution_count": 4,
   "metadata": {},
   "outputs": [],
   "source": [
    "# This project will scrape price data from Amazon and send an email when a set price has been reached\n",
    "# This will alert the email recipient to purchase while it is below the target price\n",
    "\n",
    "from bs4 import BeautifulSoup\n",
    "import requests\n",
    "import smtplib\n",
    "import time\n"
   ]
  },
  {
   "cell_type": "code",
   "execution_count": 5,
   "metadata": {},
   "outputs": [],
   "source": [
    "# Reading from Amazon the product name as well as the price\n",
    "\n",
    "def check_price():\n",
    "    URL = 'https://www.amazon.com/Seiko-SKX007K2-Divers-Automatic-Watch/dp/B000B5OD4I/ref=sr_1_2?keywords=seiko+skx&qid=1575598534&sr=8-2'\n",
    "\n",
    "    headers = {\"User-Agent\": 'Mozilla/5.0 (Windows NT 10.0; Win64; x64) AppleWebKit/537.36 (KHTML, like Gecko) Chrome/78.0.3904.108 Safari/537.36'}\n",
    "\n",
    "    page = requests.get(URL, headers=headers)\n",
    "\n",
    "    soup1 = BeautifulSoup(page.content, \"html.parser\")\n",
    "\n",
    "    soup2 = BeautifulSoup(soup1.prettify(), \"html.parser\")\n",
    "\n",
    "    title = soup2.find(id= \"productTitle\").get_text()\n",
    "    price = soup2.find(id= \"priceblock_ourprice\").get_text()\n",
    "\n",
    "    converted_price = float(price[1:5])\n",
    "\n",
    "# If the price drops below 200 dollars it sends an email\n",
    "\n",
    "    if(converted_price < 200):\n",
    "        send_mail()\n",
    "\n",
    "\n",
    "    print(title.strip())\n",
    "    print(converted_price)\n"
   ]
  },
  {
   "cell_type": "code",
   "execution_count": 6,
   "metadata": {},
   "outputs": [],
   "source": [
    "#This logs into email account and creates the email subject and body which will be sent if check_price is activated\n",
    "\n",
    "def send_mail():\n",
    "    server = smtplib.SMTP('smtp.gmail.com',587)\n",
    "    server.ehlo()\n",
    "    server.starttls()\n",
    "    server.ehlo()\n",
    "    server.login('SampleEmail@gmail.com','xxxxxxxxxxxx')\n",
    "    \n",
    "    subject = \"The Watch is below $250! Now is your chance to buy!\"\n",
    "    body = \"Alex, This is the moment we have been waiting for. Now is your chance to pick up the watch of your dreams. Don't mess it up! Link here: https://www.amazon.com/Seiko-SKX007K2-Divers-Automatic-Watch/dp/B000B5OD4I/ref=sr_1_2?keywords=seiko+skx&qid=1575598534&sr=8-2\"\n",
    "   \n",
    "    msg = f\"Subject: {subject}\\n\\n{body}\"\n",
    "    \n",
    "    server.sendmail(\n",
    "        'TheBergSource.gmail.com',\n",
    "        'alex.freberg@yahoo.com',\n",
    "        msg\n",
    "     \n",
    "    )\n",
    "    \n",
    "    print(\"Hey Email Has Been Sent!\")\n",
    "    \n",
    "    "
   ]
  },
  {
   "cell_type": "code",
   "execution_count": null,
   "metadata": {},
   "outputs": [],
   "source": [
    "#This checks the time several times per day \n",
    "\n",
    "while(True):\n",
    "    check_price()\n",
    "    time.sleep(1000)"
   ]
  },
  {
   "cell_type": "code",
   "execution_count": null,
   "metadata": {},
   "outputs": [],
   "source": []
  }
 ],
 "metadata": {
  "kernelspec": {
   "display_name": "Python 3",
   "language": "python",
   "name": "python3"
  },
  "language_info": {
   "codemirror_mode": {
    "name": "ipython",
    "version": 3
   },
   "file_extension": ".py",
   "mimetype": "text/x-python",
   "name": "python",
   "nbconvert_exporter": "python",
   "pygments_lexer": "ipython3",
   "version": "3.8.8"
  }
 },
 "nbformat": 4,
 "nbformat_minor": 2
}
